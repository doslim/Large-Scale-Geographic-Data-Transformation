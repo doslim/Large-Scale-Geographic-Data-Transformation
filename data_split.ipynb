{
 "cells": [
  {
   "cell_type": "markdown",
   "id": "935a9406-0c3e-425f-b592-81e48c5cd41c",
   "metadata": {},
   "source": [
    "# Split Data"
   ]
  },
  {
   "cell_type": "code",
   "execution_count": 11,
   "id": "503abd3b-680c-4d6a-b840-62dc2f4b5ef2",
   "metadata": {},
   "outputs": [],
   "source": [
    "import numpy as np\n",
    "import os\n",
    "from tqdm import tqdm\n",
    "import pandas as pd"
   ]
  },
  {
   "cell_type": "code",
   "execution_count": null,
   "id": "8ee6c07c-ff45-468f-82f8-ea50ea3be624",
   "metadata": {},
   "outputs": [],
   "source": [
    "data_group = pd.read_csv('data_group.csv')\n",
    "data_group"
   ]
  },
  {
   "cell_type": "code",
   "execution_count": 3,
   "id": "f4d60473-8aa0-49e6-8e7d-986a12ba2c5a",
   "metadata": {},
   "outputs": [],
   "source": [
    "original_data_path = './data/original_data'\n",
    "new_data_path = './data/new_data'\n",
    "limit = 295000"
   ]
  },
  {
   "cell_type": "code",
   "execution_count": null,
   "id": "22721a2d-e934-489f-a46d-62c6e93268da",
   "metadata": {},
   "outputs": [],
   "source": [
    "# group the data by group id\n",
    "groups = data_group.groupby(\"group\")\n",
    "\n",
    "# go through each group\n",
    "for group_id, group in tqdm(groups):\n",
    "    \n",
    "    # summary the length of the original data and split data\n",
    "    sum_group_len = group.num_data.sum()\n",
    "    split_data_len = 0\n",
    "    \n",
    "    # go through each file in the group\n",
    "    for j in range(len(group)):\n",
    "        split_file_len = 0\n",
    "        file_name = group.file_name.values[j]\n",
    "        file_len = group.num_data.values[j]\n",
    "        need_key_number = int(np.ceil(file_len / limit))\n",
    "        data = pd.read_stata(os.path.join(original_data_path, file_name))\n",
    "        \n",
    "        # split each file\n",
    "        # rename the new file in the form like (groupId_fileName_numOfSplit)\n",
    "        for i in range(need_key_number):\n",
    "            new_file_name = \"{}_{}_{}.csv\".format(group_id, file_name.split('.')[0], i)\n",
    "            sub_data = data.loc[i*limit: (i+1)*limit-1]\n",
    "            split_file_len += len(sub_data)\n",
    "            split_data_len += len(sub_data)\n",
    "            sub_data.to_csv(os.path.join(new_data_path, new_file_name), index=False)\n",
    "            \n",
    "        assert split_file_len == file_len\n",
    "        \n",
    "    assert split_data_len == sum_group_len"
   ]
  }
 ],
 "metadata": {
  "kernelspec": {
   "display_name": "deeplearning",
   "language": "python",
   "name": "deeplearning"
  },
  "language_info": {
   "codemirror_mode": {
    "name": "ipython",
    "version": 3
   },
   "file_extension": ".py",
   "mimetype": "text/x-python",
   "name": "python",
   "nbconvert_exporter": "python",
   "pygments_lexer": "ipython3",
   "version": "3.9.7"
  }
 },
 "nbformat": 4,
 "nbformat_minor": 5
}
