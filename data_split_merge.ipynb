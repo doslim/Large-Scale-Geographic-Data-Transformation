{
 "cells": [
  {
   "cell_type": "markdown",
   "id": "935a9406-0c3e-425f-b592-81e48c5cd41c",
   "metadata": {},
   "source": [
    "# Split Data"
   ]
  },
  {
   "cell_type": "code",
   "execution_count": 11,
   "id": "503abd3b-680c-4d6a-b840-62dc2f4b5ef2",
   "metadata": {},
   "outputs": [],
   "source": [
    "import numpy as np\n",
    "import os\n",
    "from tqdm import tqdm\n",
    "import pandas as pd"
   ]
  },
  {
   "cell_type": "code",
   "execution_count": null,
   "id": "8ee6c07c-ff45-468f-82f8-ea50ea3be624",
   "metadata": {},
   "outputs": [],
   "source": [
    "data_group = pd.read_csv('data_group.csv')\n",
    "data_group"
   ]
  },
  {
   "cell_type": "code",
   "execution_count": 3,
   "id": "f4d60473-8aa0-49e6-8e7d-986a12ba2c5a",
   "metadata": {},
   "outputs": [],
   "source": [
    "original_data_path = './data/original_data'\n",
    "new_data_path = './data/new_data'\n",
    "limit = 295000"
   ]
  },
  {
   "cell_type": "code",
   "execution_count": null,
   "id": "22721a2d-e934-489f-a46d-62c6e93268da",
   "metadata": {},
   "outputs": [],
   "source": [
    "# group the data by group id\n",
    "groups = data_group.groupby(\"group\")\n",
    "\n",
    "# go through each group\n",
    "for group_id, group in tqdm(groups):\n",
    "    \n",
    "    # summary the length of the original data and split data\n",
    "    sum_group_len = group.num_data.sum()\n",
    "    split_data_len = 0\n",
    "    \n",
    "    # go through each file in the group\n",
    "    for j in range(len(group)):\n",
    "        split_file_len = 0\n",
    "        file_name = group.file_name.values[j]\n",
    "        file_len = group.num_data.values[j]\n",
    "        need_key_number = int(np.ceil(file_len / limit))\n",
    "        data = pd.read_stata(os.path.join(original_data_path, file_name))\n",
    "        \n",
    "        # split each file\n",
    "        # rename the new file in the form like (groupId_fileName_numOfSplit)\n",
    "        for i in range(need_key_number):\n",
    "            new_file_name = \"{}_{}_{}.csv\".format(group_id, file_name.split('.')[0], i)\n",
    "            sub_data = data.loc[i*limit: (i+1)*limit-1]\n",
    "            split_file_len += len(sub_data)\n",
    "            split_data_len += len(sub_data)\n",
    "            sub_data.to_csv(os.path.join(new_data_path, new_file_name), index=False)\n",
    "            \n",
    "        assert split_file_len == file_len\n",
    "        \n",
    "    assert split_data_len == sum_group_len"
   ]
  },
  {
   "cell_type": "markdown",
   "id": "30746300-3880-4035-a190-138538d562c1",
   "metadata": {},
   "source": [
    "## Merge Data"
   ]
  },
  {
   "cell_type": "code",
   "execution_count": 135,
   "id": "9e63f9ce-790a-4b57-8005-43c6d9ade19c",
   "metadata": {},
   "outputs": [],
   "source": [
    "import pandas as pd\n",
    "import os\n",
    "from tqdm import tqdm\n",
    "import warnings\n",
    "warnings.filterwarnings(\"ignore\")"
   ]
  },
  {
   "cell_type": "code",
   "execution_count": 136,
   "id": "f6534154-b5be-4e8c-8fdc-ba7fd1b716d1",
   "metadata": {},
   "outputs": [],
   "source": [
    "def get_file_list(path):\n",
    "    for root, _, files in os.walk(path):\n",
    "        return files\n",
    "    \n",
    "    \n",
    "def get_file_name(group_id, file_path='./data/transformed_data'):\n",
    "    '''\n",
    "    get the file name according to the group id\n",
    "    '''\n",
    "    \n",
    "    # get the list of all files\n",
    "    files = get_file_list(file_path)\n",
    "    file_name_list = []\n",
    "    for file in files:\n",
    "        if str(group_id) in file.split('_')[0]:\n",
    "            file_name_list.append(file)\n",
    "            \n",
    "    province_set = set([i.split('_')[1] for i in file_name_list])\n",
    "    sort_list = []\n",
    "    for province in province_set:\n",
    "        temp = [j  for j in file_name_list if j.split('_')[1]==province]\n",
    "        temp.sort(key = lambda x:int(x.split('_')[2].split('.')[0]))\n",
    "        sort_list.append(temp)\n",
    "            \n",
    "    return sort_list"
   ]
  },
  {
   "cell_type": "code",
   "execution_count": 137,
   "id": "60c3a9be-bdb1-4bc5-b14e-2202121365c7",
   "metadata": {},
   "outputs": [],
   "source": [
    "def merge_data(group_id, transformed_path, error_path, merge_path, merge_error_path, group_path):\n",
    "    \n",
    "    transformed_list = get_file_name(group_id, transformed_path)\n",
    "    error_list = get_file_name(group_id, error_path)\n",
    "    group = pd.read_csv(group_path)\n",
    "    \n",
    "    \n",
    "    error_num_1 = []\n",
    "    error_num_2 = []\n",
    "    for province in transformed_list:\n",
    "        new_data = pd.DataFrame()\n",
    "        for i in province:\n",
    "            transformed_data = pd.read_csv(os.path.join(transformed_path, i))\n",
    "            new_data = new_data.append(transformed_data)\n",
    "            \n",
    "        error_num_1.append(len(new_data[new_data.longitude==-1]))\n",
    "        province_name = i.split(\"_\")[1]\n",
    "        assert group[group.file_name==province_name+\".dta\"].num_data.item()==len(new_data)\n",
    "        new_data.to_csv(os.path.join(merge_path, province_name+\".csv\"))\n",
    "        \n",
    "    for province in error_list:\n",
    "        all_error_data = pd.DataFrame()\n",
    "        for i in province:\n",
    "            error_data = pd.read_csv(os.path.join(error_path, i))\n",
    "            all_error_data = all_error_data.append(error_data)\n",
    "            \n",
    "        error_num_2.append(len(all_error_data))\n",
    "        province_name = i.split(\"_\")[1]\n",
    "        all_error_data.to_csv(os.path.join(merge_error_path, province_name+\"_error.csv\"))\n",
    "    \n",
    "    assert error_num_1==error_num_2"
   ]
  },
  {
   "cell_type": "code",
   "execution_count": 138,
   "id": "9f68beb2-af86-4c69-acec-b7b7db6798f9",
   "metadata": {},
   "outputs": [],
   "source": [
    "transformed_path='./data/transformed_data'\n",
    "error_path = './data/error_info'\n",
    "merge_path = './data/merge_data'\n",
    "merge_error_path = './data/merge_error'\n",
    "group_path = './data_group.csv'"
   ]
  },
  {
   "cell_type": "code",
   "execution_count": 139,
   "id": "789ed82b-7ab4-425c-b047-f066cc2c4a77",
   "metadata": {},
   "outputs": [
    {
     "name": "stderr",
     "output_type": "stream",
     "text": [
      "100%|██████████| 11/11 [02:13<00:00, 12.14s/it]\n"
     ]
    }
   ],
   "source": [
    "for group_id in tqdm(range(1,12)):\n",
    "    merge_data(group_id, transformed_path, error_path, merge_path, merge_error_path, group_path)"
   ]
  }
 ],
 "metadata": {
  "kernelspec": {
   "display_name": "deeplearning",
   "language": "python",
   "name": "deeplearning"
  },
  "language_info": {
   "codemirror_mode": {
    "name": "ipython",
    "version": 3
   },
   "file_extension": ".py",
   "mimetype": "text/x-python",
   "name": "python",
   "nbconvert_exporter": "python",
   "pygments_lexer": "ipython3",
   "version": "3.9.7"
  }
 },
 "nbformat": 4,
 "nbformat_minor": 5
}
